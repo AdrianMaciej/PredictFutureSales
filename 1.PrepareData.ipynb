{
 "cells": [
  {
   "cell_type": "code",
   "execution_count": 1,
   "metadata": {},
   "outputs": [],
   "source": [
    "import pandas as pd\n",
    "import numpy as np\n",
    "import seaborn as sns\n",
    "import itertools\n",
    "import re\n",
    "\n",
    "from matplotlib import pyplot as plt\n",
    "\n",
    "%matplotlib inline\n",
    "\n",
    "#Helpers\n",
    "def downcast(df, from_type, to_type):\n",
    "    orig_columns = df.columns\n",
    "    df_match = df.select_dtypes(include=[from_type])\n",
    "    converted_df = df_match.apply(pd.to_numeric,downcast=to_type)\n",
    "    res = df.drop(df_match.columns, axis = 1, inplace=False)\n",
    "    return res.join(converted_df)[orig_columns]"
   ]
  },
  {
   "cell_type": "code",
   "execution_count": 2,
   "metadata": {},
   "outputs": [],
   "source": [
    "categories = pd.read_csv(\"data/item_categories.csv\", dtype={'item_category_name': 'str', 'item_category_id': 'int8'})\n",
    "items = pd.read_csv(\"data/items.csv\", dtype={'item_name': 'str', 'item_id': 'int16', 'item_category_id': 'int8'})\n",
    "shops = pd.read_csv(\"data/shops.csv\", dtype={'shop_name': 'str', 'shop_id': 'int8'})\n",
    "sales = pd.read_csv(\"data/sales_train_v2.csv\",dtype={'date_block_num': 'int8', 'shop_id': 'int8', 'item_id': 'int16', \n",
    "                          'item_price': 'float16', 'item_cnt_day': 'float16'})\n",
    "sample = pd.read_csv(\"data/sample_submission.csv\", dtype={'ID': 'int32', 'item_cnt_month': 'float16'})\n",
    "test = pd.read_csv(\"data/test.csv\", dtype={'ID': 'int32', 'shop_id': 'int8', 'item_id': 'int16'})"
   ]
  },
  {
   "cell_type": "code",
   "execution_count": 3,
   "metadata": {},
   "outputs": [],
   "source": [
    "category_types = categories.item_category_name.str.split(' ').apply(lambda x: x[0]).str.replace('[\\W]', '').str.strip()\n",
    "categories['category_type'] = pd.Categorical(category_types).codes\n",
    "\n",
    "city = shops.shop_name.str.split().apply(lambda x: x[0]).str.replace('[\\W\\d²]', ' ').str.strip()\n",
    "shops['city'] = pd.Categorical(city).codes"
   ]
  },
  {
   "cell_type": "code",
   "execution_count": 4,
   "metadata": {},
   "outputs": [],
   "source": [
    "categories.drop(['item_category_name'], axis=1, inplace=True)\n",
    "shops.drop(['shop_name'], axis=1, inplace=True)\n",
    "items.drop(['item_name'], axis=1, inplace=True)"
   ]
  },
  {
   "cell_type": "code",
   "execution_count": 5,
   "metadata": {},
   "outputs": [
    {
     "data": {
      "text/plain": [
       "<matplotlib.axes._subplots.AxesSubplot at 0x14c5ae01dd8>"
      ]
     },
     "execution_count": 5,
     "metadata": {},
     "output_type": "execute_result"
    },
    {
     "data": {
      "image/png": "[encoded data removed]",
      "text/plain": [
       "<Figure size 432x288 with 2 Axes>"
      ]
     },
     "metadata": {
      "needs_background": "light"
     },
     "output_type": "display_data"
    }
   ],
   "source": [
    "# show outliers\n",
    "fig, ax = plt.subplots(1,2)\n",
    "sns.boxplot(sales['item_price'], ax=ax[0])\n",
    "sns.boxplot(sales['item_cnt_day'], ax=ax[1])"
   ]
  },
  {
   "cell_type": "code",
   "execution_count": 6,
   "metadata": {},
   "outputs": [
    {
     "data": {
      "text/plain": [
       "1163158             inf\n",
       "885138     5.920000e+04\n",
       "1488135    5.100800e+04\n",
       "2327159    4.979200e+04\n",
       "2910156    4.297600e+04\n",
       "Name: item_price, dtype: float16"
      ]
     },
     "execution_count": 6,
     "metadata": {},
     "output_type": "execute_result"
    }
   ],
   "source": [
    "# show lowest prices\n",
    "sales.item_price.sort_values().head()\n",
    "sales.item_price.sort_values(ascending=False).head()"
   ]
  },
  {
   "cell_type": "code",
   "execution_count": 7,
   "metadata": {},
   "outputs": [],
   "source": [
    "# drop outliers\n",
    "sales = sales[(sales.item_price > 0) & (sales.item_price < 100000) & (sales.item_cnt_day < 1500)]\n",
    "\n",
    "# take only data that is relavent to the test set\n",
    "test_shops = test.shop_id.unique()\n",
    "test_items = test.item_id.unique()\n",
    "\n",
    "sales = sales[sales.shop_id.isin(test_shops)]\n",
    "sales = sales[sales.item_id.isin(test_items)]"
   ]
  },
  {
   "cell_type": "code",
   "execution_count": 8,
   "metadata": {},
   "outputs": [],
   "source": [
    "# drop date - it's a mess\n",
    "sales.drop('date', axis = 1, inplace=True)\n",
    "\n",
    "# used in v1\n",
    "sales['revenue'] = sales['item_cnt_day'] * sales['item_price'].astype('float32')"
   ]
  },
  {
   "cell_type": "code",
   "execution_count": 9,
   "metadata": {},
   "outputs": [],
   "source": [
    "sales_g = sales.groupby(['shop_id', 'item_id', 'date_block_num'], as_index=False).agg(\n",
    "    {\n",
    "        'item_cnt_day': ['sum'], \n",
    "        'item_price': ['mean'],\n",
    "        'revenue': ['sum']\n",
    "    }\n",
    ")\n",
    "\n",
    "sales_g.columns = ['shop_id', 'item_id', 'date_block_num', 'item_cnt_month', 'avg_item_price', 'revenue']\n",
    "# clip data into 0,20 range\n",
    "sales_g['item_cnt_month'] = sales_g.item_cnt_month.clip(0, 20)\n",
    "sales_g = downcast(sales_g, 'int64', 'integer')"
   ]
  },
  {
   "cell_type": "code",
   "execution_count": 10,
   "metadata": {},
   "outputs": [],
   "source": [
    "sales_empty = pd.DataFrame.from_records(itertools.product(test_shops, test_items, sales_g.date_block_num.unique()),\n",
    "                                        columns = ['shop_id', 'item_id', 'date_block_num'])"
   ]
  },
  {
   "cell_type": "code",
   "execution_count": 11,
   "metadata": {},
   "outputs": [],
   "source": [
    "# merge actual data with empty data to get the full dataset\n",
    "sales_full = sales_g.merge(sales_empty, how='outer').sort_values('date_block_num')\n",
    "# get month\n",
    "sales_full['month'] = sales_full.date_block_num % 12\n",
    "# get year\n",
    "sales_full['year'] = sales_full.date_block_num // 12\n",
    "\n",
    "sales_full.sort_values(['shop_id', 'item_id', 'date_block_num'], inplace=True)\n",
    "sales_full.reset_index(drop=True, inplace=True)\n",
    "sales_full = downcast(sales_full, 'int64', 'integer')"
   ]
  },
  {
   "cell_type": "code",
   "execution_count": 12,
   "metadata": {},
   "outputs": [],
   "source": [
    "# join items, categories and shops\n",
    "sales_full = sales_full \\\n",
    ".join(shops, on='shop_id', rsuffix='_REM') \\\n",
    ".join(items, on='item_id', rsuffix='_REM') \\\n",
    ".join(categories, on='item_category_id', rsuffix='_REM')\n",
    "\n",
    "sales_full.drop(list(sales_full.filter(regex='_REM')), axis=1, inplace=True)"
   ]
  },
  {
   "cell_type": "code",
   "execution_count": 13,
   "metadata": {},
   "outputs": [],
   "source": [
    "def get_shifted_value(data, columns, shift, column_names, grpby=['shop_id', 'item_id', 'date_block_num']):\n",
    "    if type(columns) == str:\n",
    "        columns = [columns]\n",
    "    if type(column_names) == str:\n",
    "        column_names = [column_names]\n",
    "    t = data[grpby + columns]\n",
    "    shifted = t.copy()\n",
    "    shifted.columns = grpby + column_names\n",
    "    shifted['date_block_num'] += shift\n",
    "    df = pd.merge(data, shifted, on=grpby, how='left')\n",
    "    return df"
   ]
  },
  {
   "cell_type": "code",
   "execution_count": 14,
   "metadata": {},
   "outputs": [],
   "source": [
    "sales_full = get_shifted_value(sales_full, 'item_cnt_month', -1, 'predict_item_cnt_month')\n",
    "\n",
    "prev = [1, 2, 3, 4, 6, 12]\n",
    "for p in prev:\n",
    "    sales_full = get_shifted_value(sales_full, 'item_cnt_month', p, 'prev%s_item_cnt_month' % p)\n",
    "    \n",
    "prev = [1, 2, 3, 4, 6, 12]\n",
    "for p in prev:\n",
    "    sales_full = get_shifted_value(sales_full, 'avg_item_price', p, 'prev%s_avg_item_price' % p)\n",
    "\n",
    "prev = [1, 2, 3, 4, 6, 12]\n",
    "for p in prev:\n",
    "    sales_full = get_shifted_value(sales_full, 'revenue', p, 'prev%s_revenue' % p)"
   ]
  },
  {
   "cell_type": "code",
   "execution_count": 15,
   "metadata": {},
   "outputs": [],
   "source": [
    "# min max price of an item\n",
    "g = sales_full.sort_values('date_block_num').groupby(['item_id'], as_index=False).agg({'avg_item_price':['min', 'max']})\n",
    "g.columns = ['item_id', 'min_item_price', 'max_item_price']\n",
    "sales_full = sales_full.merge(g, on='item_id', how='left')\n",
    "\n",
    "# min max price of an item in that shop\n",
    "g = sales_full.sort_values('date_block_num').groupby(['shop_id', 'item_id'], as_index=False).agg({'avg_item_price':['min', 'max']})\n",
    "g.columns = ['shop_id', 'item_id', 'min_shop_item_price', 'max_shop_item_price']\n",
    "sales_full = sales_full.merge(g, on=['shop_id','item_id'], how='left')\n",
    "\n",
    "# diff between this price and global prices\n",
    "sales_full['price_over_min_global'] = sales_full['avg_item_price'] - sales_full['min_item_price']\n",
    "sales_full['price_below_max_global'] = sales_full['avg_item_price'] - sales_full['max_item_price']\n",
    "# diff between this price and shop prices\n",
    "sales_full['price_over_min_shop'] = sales_full['avg_item_price'] - sales_full['min_shop_item_price']\n",
    "sales_full['price_below_max_shop'] = sales_full['avg_item_price'] - sales_full['max_shop_item_price']\n",
    "# diff between shop price and global prices\n",
    "sales_full['shop_min_price_over_min_global'] = sales_full['min_shop_item_price'] - sales_full['min_item_price']\n",
    "sales_full['shop_max_price_below_max_global'] = sales_full['max_shop_item_price'] - sales_full['max_item_price']\n",
    "\n",
    "# drop the initial min, max\n",
    "sales_full.drop(['min_item_price', 'max_item_price', 'min_shop_item_price', 'max_shop_item_price'], axis=1, inplace=True)"
   ]
  },
  {
   "cell_type": "code",
   "execution_count": 16,
   "metadata": {},
   "outputs": [],
   "source": [
    "def roll(window, stat):\n",
    "    return lambda x: getattr(x.rolling(window=window, min_periods=1), stat)()\n",
    "\n",
    "def add_rolled_values(data, column, windows, stats):\n",
    "    for window, stat in itertools.product(windows, stats):\n",
    "        res = '%s_w%s_%s' % (column, str(window), stat)\n",
    "        print(res)\n",
    "        data['%s_w%s_%s' % (column, str(window), stat)] = data.sort_values('date_block_num').\\\n",
    "                                                                groupby(['shop_id', 'item_id'])[column].\\\n",
    "                                                                apply(roll(window, stat))"
   ]
  },
  {
   "cell_type": "code",
   "execution_count": 17,
   "metadata": {},
   "outputs": [
    {
     "name": "stdout",
     "output_type": "stream",
     "text": [
      "item_cnt_month_w2_mean\n",
      "item_cnt_month_w2_std\n",
      "item_cnt_month_w3_mean\n",
      "item_cnt_month_w3_std\n",
      "item_cnt_month_w4_mean\n",
      "item_cnt_month_w4_std\n",
      "item_cnt_month_w6_mean\n",
      "item_cnt_month_w6_std\n",
      "item_cnt_month_w12_mean\n",
      "item_cnt_month_w12_std\n"
     ]
    }
   ],
   "source": [
    "add_rolled_values(sales_full, 'item_cnt_month', [2, 3, 4, 6, 12], ['mean', 'std'])"
   ]
  },
  {
   "cell_type": "code",
   "execution_count": 18,
   "metadata": {},
   "outputs": [],
   "source": [
    "def get_last_available_prev_column(data, regx):\n",
    "    prog = re.compile(regx)\n",
    "    columns = list(filter(lambda x: prog.match(x), data.columns))\n",
    "    mask = data[columns].notnull().values\n",
    "    return data[columns].values[np.arange(len(data)), np.argmin(mask, axis=1)]\n",
    "\n",
    "sales_full['LA_item_cnt_month'] = get_last_available_prev_column(sales_full, 'prev\\d_item_cnt_month')\n",
    "sales_full['item_cnt_month_trend'] = sales_full['item_cnt_month'] - sales_full['LA_item_cnt_month']\n",
    "\n",
    "sales_full['LA_avg_item_price'] = get_last_available_prev_column(sales_full, 'prev\\d_avg_item_price')\n",
    "sales_full['avg_item_price_trend'] = sales_full['avg_item_price'] - sales_full['LA_avg_item_price']"
   ]
  },
  {
   "cell_type": "code",
   "execution_count": 19,
   "metadata": {},
   "outputs": [],
   "source": [
    "sales_full.to_pickle('sales_full_enh.pkl')"
   ]
  }
 ],
 "metadata": {
  "kernelspec": {
   "display_name": "Python 3",
   "language": "python",
   "name": "python3"
  },
  "language_info": {
   "codemirror_mode": {
    "name": "ipython",
    "version": 3
   },
   "file_extension": ".py",
   "mimetype": "text/x-python",
   "name": "python",
   "nbconvert_exporter": "python",
   "pygments_lexer": "ipython3",
   "version": "3.6.7"
  }
 },
 "nbformat": 4,
 "nbformat_minor": 2
}
