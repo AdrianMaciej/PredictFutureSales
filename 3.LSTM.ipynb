{
 "cells": [
  {
   "cell_type": "code",
   "execution_count": 1,
   "metadata": {},
   "outputs": [],
   "source": [
    "import pandas as pd\n",
    "import numpy as np"
   ]
  },
  {
   "cell_type": "code",
   "execution_count": 2,
   "metadata": {},
   "outputs": [],
   "source": [
    "sales_data = pd.read_pickle('sales_full_enh.pkl')"
   ]
  },
  {
   "cell_type": "code",
   "execution_count": 120,
   "metadata": {},
   "outputs": [
    {
     "name": "stderr",
     "output_type": "stream",
     "text": [
      "C:\\Users\\Adrian.Maciej.KYNETEC\\AppData\\Local\\Continuum\\anaconda3\\envs\\Keras\\lib\\site-packages\\ipykernel_launcher.py:3: SettingWithCopyWarning: \n",
      "A value is trying to be set on a copy of a slice from a DataFrame.\n",
      "Try using .loc[row_indexer,col_indexer] = value instead\n",
      "\n",
      "See the caveats in the documentation: http://pandas.pydata.org/pandas-docs/stable/indexing.html#indexing-view-versus-copy\n",
      "  This is separate from the ipykernel package so we can avoid doing imports until\n",
      "C:\\Users\\Adrian.Maciej.KYNETEC\\AppData\\Local\\Continuum\\anaconda3\\envs\\Keras\\lib\\site-packages\\ipykernel_launcher.py:4: SettingWithCopyWarning: \n",
      "A value is trying to be set on a copy of a slice from a DataFrame.\n",
      "Try using .loc[row_indexer,col_indexer] = value instead\n",
      "\n",
      "See the caveats in the documentation: http://pandas.pydata.org/pandas-docs/stable/indexing.html#indexing-view-versus-copy\n",
      "  after removing the cwd from sys.path.\n"
     ]
    }
   ],
   "source": [
    "sales_simple = sales_data[['shop_id', 'item_id', 'date_block_num', 'month', 'city', 'item_cnt_month', 'avg_item_price', 'category_type']]\n",
    "sales_simple.item_cnt_month = sales_simple.item_cnt_month.fillna(0)\n",
    "sales_simple['item_cnt_month'] = sales_simple.item_cnt_month.astype('float32')\n",
    "sales_simple['avg_item_price'] = sales_simple.avg_item_price.astype('float32')\n",
    "sales_simple.ffill(inplace=True)\n",
    "sales_simple.fillna(0, inplace=True)"
   ]
  },
  {
   "cell_type": "code",
   "execution_count": 121,
   "metadata": {},
   "outputs": [
    {
     "name": "stderr",
     "output_type": "stream",
     "text": [
      "C:\\Users\\Adrian.Maciej.KYNETEC\\AppData\\Local\\Continuum\\anaconda3\\envs\\Keras\\lib\\site-packages\\ipykernel_launcher.py:6: SettingWithCopyWarning: \n",
      "A value is trying to be set on a copy of a slice from a DataFrame.\n",
      "Try using .loc[row_indexer,col_indexer] = value instead\n",
      "\n",
      "See the caveats in the documentation: http://pandas.pydata.org/pandas-docs/stable/indexing.html#indexing-view-versus-copy\n",
      "  \n"
     ]
    }
   ],
   "source": [
    "sales_simple['history'] = list(zip(\n",
    "                                    sales_simple.month,\n",
    "                                    sales_simple.city, \n",
    "                                    sales_simple.category_type, \n",
    "                                    sales_simple.item_cnt_month, \n",
    "                                    sales_simple.avg_item_price))"
   ]
  },
  {
   "cell_type": "code",
   "execution_count": null,
   "metadata": {},
   "outputs": [],
   "source": [
    "sales_simple.merge()"
   ]
  },
  {
   "cell_type": "code",
   "execution_count": 133,
   "metadata": {},
   "outputs": [],
   "source": [
    "next_month = sales_data[['predict_item_cnt_month']]\n",
    "sales_merged = sales_simple.merge(next_month, left_index=True, right_index=True)\n",
    "sales_merged.drop(['month', 'city','item_cnt_month', 'avg_item_price', 'category_type'], axis=1, inplace=True)\n",
    "sales_merged.columns = ['shop_id', 'item_id', 'date_block_num', 'history', 'prediction']\n",
    "sales_merged.fillna(0, inplace=True)"
   ]
  },
  {
   "cell_type": "code",
   "execution_count": 106,
   "metadata": {},
   "outputs": [],
   "source": [
    "sales_grouped = sales_merged.sort_values('date_block_num').groupby(['shop_id', 'item_id'])['history'].apply(list)\n",
    "sales_grouped = sales_grouped.reset_index()\n",
    "res = pd.merge(sales_grouped[['history']], sales_merged[['prediction']], left_index=True, right_index=True)"
   ]
  },
  {
   "cell_type": "code",
   "execution_count": 153,
   "metadata": {},
   "outputs": [],
   "source": [
    "train_set = sales_merged[(sales_merged.date_block_num > 30-12) & (sales_merged.date_block_num < 32)]\n",
    "validation_set = sales_merged[(sales_merged.date_block_num > 32-12) & (sales_merged.date_block_num < 33)]\n",
    "test_set = sales_merged[sales_merged.date_block_num > 33-12]"
   ]
  },
  {
   "cell_type": "code",
   "execution_count": 141,
   "metadata": {},
   "outputs": [
    {
     "data": {
      "text/plain": [
       "([(0, 0, 7, 0.0, 0.0),\n",
       "  (1, 0, 7, 0.0, 0.0),\n",
       "  (2, 0, 7, 1.0, 359.0),\n",
       "  (3, 0, 7, 0.0, 359.0),\n",
       "  (4, 0, 7, 0.0, 359.0),\n",
       "  (5, 0, 7, 1.0, 399.0),\n",
       "  (6, 0, 7, 0.0, 399.0),\n",
       "  (7, 0, 7, 0.0, 399.0),\n",
       "  (8, 0, 7, 0.0, 399.0),\n",
       "  (9, 0, 7, 0.0, 399.0),\n",
       "  (10, 0, 7, 0.0, 399.0),\n",
       "  (11, 0, 7, 0.0, 399.0)],\n",
       " 0.0)"
      ]
     },
     "execution_count": 141,
     "metadata": {},
     "output_type": "execute_result"
    }
   ],
   "source": [
    "list(sales_merged.history[0:12]), sales_merged.prediction[12]"
   ]
  }
 ],
 "metadata": {
  "kernelspec": {
   "display_name": "Python 3",
   "language": "python",
   "name": "python3"
  },
  "language_info": {
   "codemirror_mode": {
    "name": "ipython",
    "version": 3
   },
   "file_extension": ".py",
   "mimetype": "text/x-python",
   "name": "python",
   "nbconvert_exporter": "python",
   "pygments_lexer": "ipython3",
   "version": "3.6.7"
  }
 },
 "nbformat": 4,
 "nbformat_minor": 2
}
